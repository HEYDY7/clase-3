{
 "cells": [
  {
   "cell_type": "markdown",
   "metadata": {},
   "source": [
    "ecuación cuadratica \ta x^2 + b x + c = 0"
   ]
  },
  {
   "cell_type": "code",
   "execution_count": null,
   "metadata": {},
   "outputs": [],
   "source": [
    "import math\n",
    "a=float(input(\"ingresa el valor de a\\n\"))\n",
    "b=float(input(\"ingresa el valor de b\\n\"))\n",
    "c=float(input(\"ingresa el valor de c\\n\"))\n",
    "disc=b*b-4*a*c\n",
    "if(a!=0):\n",
    "    if(disc<0):\n",
    "        printf(\"tiene raices imaginarias\")\n",
    "    else:\n",
    "        x1=(-b+(math.sqrt(disc)))/(2*a)\n",
    "        x2=(-b-(math.sqrt(disc)))/(2*a)\n",
    "        print(\"x1=\"+str (x1)+\"x2=\"+str (x2))\n",
    "else: print(\"coeficiente cuadratico diferente de cero\")"
   ]
  }
 ],
 "metadata": {
  "kernelspec": {
   "display_name": "Python 2",
   "language": "python",
   "name": "python2"
  },
  "language_info": {
   "codemirror_mode": {
    "name": "ipython",
    "version": 2
   },
   "file_extension": ".py",
   "mimetype": "text/x-python",
   "name": "python",
   "nbconvert_exporter": "python",
   "pygments_lexer": "ipython2",
   "version": "2.7.16"
  }
 },
 "nbformat": 4,
 "nbformat_minor": 2
}
